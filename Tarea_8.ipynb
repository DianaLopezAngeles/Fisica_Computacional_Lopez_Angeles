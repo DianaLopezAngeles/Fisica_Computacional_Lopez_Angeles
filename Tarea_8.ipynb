{
 "cells": [
  {
   "cell_type": "markdown",
   "metadata": {},
   "source": [
    "# Tarea 8\n",
    "\n",
    "Fecha de entrega: 12/Septiembre/2017\n",
    "\n",
    "Por _Diana López Angeles_"
   ]
  },
  {
   "cell_type": "markdown",
   "metadata": {},
   "source": [
    "### Ejercicio 1: \n",
    "\n",
    "Escribe una función `derivadaNumerica` que reciba: una función $f\\colon \\mathbb{R}\\mapsto\\mathbb{R}$, un punto $x_0\\in\\mathbb{R}$ y un número $h\\in\\mathbb{R}$. Esta función deberá calcular una aproximación a la derivada utilizando la definición indicada arriba ignorando la parte del límite. Es decir, algo como: `derivada_numerica(f,x,h)`."
   ]
  },
  {
   "cell_type": "code",
   "execution_count": 2,
   "metadata": {
    "collapsed": true
   },
   "outputs": [],
   "source": [
    "function f(x)                          #La funcion a la que queremos sacar la derivada numerica.\n",
    "    cos.(x)\n",
    "    end;"
   ]
  },
  {
   "cell_type": "code",
   "execution_count": 3,
   "metadata": {
    "collapsed": true
   },
   "outputs": [],
   "source": [
    "function derivada_numerica(f,x,h)     #Definimos nuestra funcion que tenga de inputs la funcion, el punto donde queremos evaluarla y h.\n",
    "    df_ = (f(h+x)-f(x))/h             #La definicion de derivada.\n",
    "    return df_                        #Que nos de nuestra derivada evaluada en el punto.\n",
    "end;"
   ]
  },
  {
   "cell_type": "code",
   "execution_count": 4,
   "metadata": {},
   "outputs": [
    {
     "data": {
      "text/plain": [
       "-0.0004999999583255033"
      ]
     },
     "execution_count": 4,
     "metadata": {},
     "output_type": "execute_result"
    }
   ],
   "source": [
    "derivada_numerica(f,0,0.001)          #Probamos nuestra función."
   ]
  },
  {
   "cell_type": "code",
   "execution_count": 5,
   "metadata": {},
   "outputs": [
    {
     "data": {
      "text/plain": [
       "-0.004999958333473664"
      ]
     },
     "execution_count": 5,
     "metadata": {},
     "output_type": "execute_result"
    }
   ],
   "source": [
    "derivada_numerica(f,0,0.01)"
   ]
  },
  {
   "cell_type": "code",
   "execution_count": 6,
   "metadata": {},
   "outputs": [
    {
     "data": {
      "text/plain": [
       "-0.049958347219741794"
      ]
     },
     "execution_count": 6,
     "metadata": {},
     "output_type": "execute_result"
    }
   ],
   "source": [
    "derivada_numerica(f,0,0.1)"
   ]
  },
  {
   "cell_type": "markdown",
   "metadata": {},
   "source": [
    "### __Ejercicio 7:__\n",
    "\n",
    "Explotar la relación $\\delta_h=\\Delta_h-\\Delta_{-h}$, donde $\\delta_h:f(x)\\mapsto f(x+h)-f(x-h)$, para encontrar cual es la función $\\theta$ que relaciona a $\\delta_h$ con el operador derivada exacta, es decir:\n",
    "$$\\delta_h=\\theta\\left(h\\left. \\frac{d}{d\\xi}\\right|_{\\xi=x}\\right).$$\n",
    "\n",
    "Una vez que la encuentren, despejen $\\left. \\frac{d}{d\\xi}\\right|_{\\xi=x}$ y calculen la serie de Taylor de mánera similar a lo mostrado en las ecuaciones 3 y 4."
   ]
  },
  {
   "cell_type": "markdown",
   "metadata": {},
   "source": [
    "Vamos a resolverlo justo como lo hicimos en clase:\n",
    "\n",
    "Sabemos que $\\phi(x)=e^x-1$. Por lo tanto $\\Delta_h$ y $\\Delta_{-h}$ se ven de la siguiente manera:\n",
    "$$\\Delta_h=\\exp{\\left(h\\left.\\frac{d}{d\\xi}\\right|_{\\substack{ \\xi=x }}\\right)}-1$$\n",
    "\n",
    "$$\\Delta_{-h}=\\exp{\\left(-h\\left.\\frac{d}{d\\xi}\\right|_{\\substack{ \\xi=x }}\\right)}-1$$\n",
    "\n",
    "Sustituyendo en $\\delta_h$:\n",
    "$$\\delta_h=\\exp{\\left(h\\left.\\frac{d}{d\\xi}\\right|_{\\substack{ \\xi=x }}\\right)} -\\exp{\\left(-h\\left.\\frac{d}{d\\xi}\\right|_{\\substack{ \\xi=x }}\\right)}$$ \n",
    "\n",
    "Sabemos que:\n",
    "\n",
    "$$\\sinh{x} = \\frac{e^{x} - e^{-x}}{2}$$\n",
    "\n",
    "Por lo tanto:\n",
    "\n",
    "$$\\delta_h= 2\\sinh{\\left(h\\left.\\frac{d}{d\\xi}\\right|_{\\substack{ \\xi=x }}\\right)} $$\n",
    "\n",
    "Despejamos $\\left. \\frac{d}{d\\xi}\\right|_{\\xi=x}$ :\n",
    "\n",
    "$$ \\left. \\frac{d}{d\\xi}\\right|_{\\xi=x} = \\frac{1}{h}\\sinh^{ - 1}{\\left(\\frac{\\delta_h}{2}\\right)}$$\n",
    "\n",
    "Tenemos que:\n",
    "\n",
    "$$ \\left. \\frac{df(\\xi)}{d\\xi}\\right|_{\\xi=x} = \\frac{df(x)}{dx} = \\frac{1}{h}\\sinh^{ - 1}{\\left(\\frac{\\delta_h}{2}\\right)}f(x)$$\n",
    "\n",
    "Calculamos el poliniomio de Taylor para $g(x) = \\sinh^{-1}{x}$ con $n=3$:\n",
    "\n",
    "$$ g(x) = g(0)+g'(0)x+\\frac{g''(0)}{2!}x^{2}+\\frac{g'''(0)}{3!}x^{3} $$\n",
    "\n",
    "\n",
    "$$ g(x) = x-\\left(\\frac{1}{2}\\right)\\frac{x^{3}}{3}$$\n",
    "\n",
    "Como $x =\\frac{\\delta_h}{2}$\n",
    "\n",
    "$$ g(x) = \\frac{\\delta_h}{2}-\\frac{\\delta_h^{3}}{48} $$\n",
    "\n",
    "Por lo tanto, nuestra $f'(x)$ queda como:\n",
    "\n",
    "$$f'(x) = \\frac{1}{h}\\left(\\frac{\\delta_hf(x)}{2}-\\frac{\\delta_h^{3}f(x)}{48}\\right) +\\mathcal{O}\\left(h^{2}\\right)$$\n",
    "\n",
    "En donde $ \\delta_hf(x) = f(x+h)-f(x-h) $"
   ]
  }
 ],
 "metadata": {
  "kernelspec": {
   "display_name": "Julia 0.6.0",
   "language": "julia",
   "name": "julia-0.6"
  },
  "language_info": {
   "file_extension": ".jl",
   "mimetype": "application/julia",
   "name": "julia",
   "version": "0.6.0"
  }
 },
 "nbformat": 4,
 "nbformat_minor": 2
}
