{
 "cells": [
  {
   "cell_type": "markdown",
   "metadata": {},
   "source": [
    "# Tarea 20\n",
    "\n",
    "Fecha de entrega: 14/Noviembre/2017\n",
    "\n",
    "Por _Diana López Angeles_"
   ]
  },
  {
   "cell_type": "markdown",
   "metadata": {},
   "source": [
    "## Ecuaciones diferenciales parciales"
   ]
  },
  {
   "cell_type": "code",
   "execution_count": 1,
   "metadata": {
    "collapsed": true
   },
   "outputs": [],
   "source": [
    "using PyPlot"
   ]
  },
  {
   "cell_type": "markdown",
   "metadata": {},
   "source": [
    "### Ejercicio 1:\n",
    "\n",
    "Para una malla de 5 por 6 resolver la ecuación de Laplace utilizando las condiciones  a la frontera siguiente: en la parte superior, toma los valores\n",
    "$\\{0, 70.7107, 100., 70.7107, 0\\}$ y en el resto de bordes es cero. El sistema\n",
    "de ecuaciones es el siguiente\n",
    "\n",
    "\n",
    "\\begin{align*}\n",
    "-4 f_{2,2}+f_{2,3}+f_{3,2}=0,\\\\f_{2,2}-4 f_{2,3}+f_{2,4}+f_{3,3}=0,\\\\f_{2,3}-4 f_{2,4}+f_{2,5}+f_{3,4}=0,\\\\f_{2,4}-4\n",
    "   f_{2,5}+f_{2,6}+f_{3,5}=0,\\\\f_{2,5}-4 f_{2,6}+f_{3,6}+70.7107=0,\\\\f_{2,2}-4 f_{3,2}+f_{3,3}+f_{4,2}=0,\\\\f_{2,3}+f_{3,2}-4\n",
    "   f_{3,3}+f_{3,4}+f_{4,3}=0,\\\\f_{2,4}+f_{3,3}-4 f_{3,4}+f_{3,5}+f_{4,4}=0,\\\\f_{2,5}+f_{3,4}-4 f_{3,5}+f_{3,6}+f_{4,5}=0,\\\\f_{2,6}+f_{3,5}-4\n",
    "   f_{3,6}+f_{4,6}+100.=0,\\\\f_{3,2}-4 f_{4,2}+f_{4,3}=0,\\\\f_{3,3}+f_{4,2}-4 f_{4,3}+f_{4,4}=0,\\\\f_{3,4}+f_{4,3}-4 f_{4,4}+f_{4,5}=0,\\\\f_{3,5}+f_{4,4}-4\n",
    "   f_{4,5}+f_{4,6}=0,\\\\f_{3,6}+f_{4,5}-4 f_{4,6}+70.7107=0.\n",
    "\\end{align*}\n",
    "\n",
    "El sistema de ecuaciones resultante es $A \\vec f +\\vec b= \\vec 0$ con $A$ igual a la siguiente matriz\n",
    "\n",
    "$$\n",
    "\\left(\n",
    "\\begin{array}{ccccccccccccccc}\n",
    " -4. & 1. & 0 & 0 & 0 & 1. & 0 & 0 & 0 & 0 & 0 & 0 & 0 & 0 & 0 \\\\\n",
    " 1. & -4. & 1. & 0 & 0 & 0 & 1. & 0 & 0 & 0 & 0 & 0 & 0 & 0 & 0 \\\\\n",
    " 0 & 1. & -4. & 1. & 0 & 0 & 0 & 1. & 0 & 0 & 0 & 0 & 0 & 0 & 0 \\\\\n",
    " 0 & 0 & 1. & -4. & 1. & 0 & 0 & 0 & 1. & 0 & 0 & 0 & 0 & 0 & 0 \\\\\n",
    " 0 & 0 & 0 & 1. & -4. & 0 & 0 & 0 & 0 & 1. & 0 & 0 & 0 & 0 & 0 \\\\\n",
    " 1. & 0 & 0 & 0 & 0 & -4. & 1. & 0 & 0 & 0 & 1. & 0 & 0 & 0 & 0 \\\\\n",
    " 0 & 1. & 0 & 0 & 0 & 1. & -4. & 1. & 0 & 0 & 0 & 1. & 0 & 0 & 0 \\\\\n",
    " 0 & 0 & 1. & 0 & 0 & 0 & 1. & -4. & 1. & 0 & 0 & 0 & 1. & 0 & 0 \\\\\n",
    " 0 & 0 & 0 & 1. & 0 & 0 & 0 & 1. & -4. & 1. & 0 & 0 & 0 & 1. & 0 \\\\\n",
    " 0 & 0 & 0 & 0 & 1. & 0 & 0 & 0 & 1. & -4. & 0 & 0 & 0 & 0 & 1. \\\\\n",
    " 0 & 0 & 0 & 0 & 0 & 1. & 0 & 0 & 0 & 0 & -4. & 1. & 0 & 0 & 0 \\\\\n",
    " 0 & 0 & 0 & 0 & 0 & 0 & 1. & 0 & 0 & 0 & 1. & -4. & 1. & 0 & 0 \\\\\n",
    " 0 & 0 & 0 & 0 & 0 & 0 & 0 & 1. & 0 & 0 & 0 & 1. & -4. & 1. & 0 \\\\\n",
    " 0 & 0 & 0 & 0 & 0 & 0 & 0 & 0 & 1. & 0 & 0 & 0 & 1. & -4. & 1. \\\\\n",
    " 0 & 0 & 0 & 0 & 0 & 0 & 0 & 0 & 0 & 1. & 0 & 0 & 0 & 1. & -4. \\\\\n",
    "\\end{array}\n",
    "\\right)\n",
    "$$\n",
    "y $b$ de la forma\n",
    "\n",
    "$$\n",
    "(0.,0.,0.,0.,70.7107,0.,0.,0.,0.,100.,0.,0.,0.,0.,70.7107)^T.\n",
    "$$\n",
    "\n",
    "La solución a este sistema es $\\vec f=-A^{-1}\\vec b$.\n",
    "\n",
    "----\n",
    "\n",
    "Crear una rutina que construya $A$ y $\\vec b$ para este sistema. Resuelvalo utilizando la función `inv` y grafique $\\vec f$ utilizando la funcion `pcolormesh`. Recuerde que aqui $\\vec f$ es un vector, para volverlo de nuevo una matriz con entradas $f_{i,j}$ pueden usar la función `reshape`.\n",
    "\n",
    "---"
   ]
  },
  {
   "cell_type": "code",
   "execution_count": 2,
   "metadata": {},
   "outputs": [
    {
     "data": {
      "image/png": "[encoded data removed]",
      "text/plain": [
       "PyPlot.Figure(PyObject <matplotlib.figure.Figure object at 0x127edc390>)"
      ]
     },
     "metadata": {},
     "output_type": "display_data"
    }
   ],
   "source": [
    "#Primero podemos checar que es lo que se supone debemos obtener:\n",
    "#Primero vamos a meter todas las entradas de nuestra matriz pero como si fuera un vectorsote:\n",
    "A_vector = [ -4. , 1. , 0 , 0 , 0 , 1. , 0 , 0 , 0 , 0 , 0 , 0 , 0 , 0 , 0 ,1. , -4. , 1. , 0 , 0 , 0 , 1. , 0 , 0 , 0 , 0 , 0 , 0 , 0 , 0, 0 , 1. , -4. , 1. , 0 , 0 , 0 , 1. , 0 , 0 , 0 , 0 , 0 , 0 , 0,0 , 0 , 1. , -4. , 1. , 0 , 0 , 0 , 1. , 0 , 0 , 0 , 0 , 0 , 0, 0 , 0 , 0 , 1. , -4. , 0 , 0 , 0 , 0 , 1. , 0 , 0 , 0 , 0 , 0, 1. , 0 , 0 , 0 , 0 , -4. , 1. , 0 , 0 , 0 , 1. , 0 , 0 , 0 , 0, 0 , 1. , 0 , 0 , 0 , 1. , -4. , 1. , 0 , 0 , 0 , 1. , 0 , 0 , 0 ,0 , 0 , 1. , 0 , 0 , 0 , 1. , -4. , 1. , 0 , 0 , 0 , 1. , 0 , 0, 0 , 0 , 0 , 1. , 0 , 0 , 0 , 1. , -4. , 1. , 0 , 0 , 0 , 1. , 0,0 , 0 , 0 , 0 , 1. , 0 , 0 , 0 , 1. , -4. , 0 , 0 , 0 , 0 , 1.,0 , 0 , 0 , 0 , 0 , 1. , 0 , 0 , 0 , 0 , -4. , 1. , 0 , 0 , 0 ,0 , 0 , 0 , 0 , 0 , 0 , 1. , 0 , 0 , 0 , 1. , -4. , 1. , 0 , 0,0 , 0 , 0 , 0 , 0 , 0 , 0 , 1. , 0 , 0 , 0 , 1. , -4. , 1. , 0,0 , 0 , 0 , 0 , 0 , 0 , 0 , 0 , 1. , 0 , 0 , 0 , 1. , -4. , 1.,0 , 0 , 0 , 0 , 0 , 0 , 0 , 0 , 0 , 1. , 0 , 0 , 0 , 1. , -4.];\n",
    "#Ahora vamos a convertir ese vector en una matriz:\n",
    "A_matriz = reshape(A_vector,(15,15));\n",
    "#Definimos nuestro vector b que ya lo conocemos\n",
    "b_vector = [0.,0.,0.,0.,70.7107,0.,0.,0.,0.,100.,0.,0.,0.,0.,70.7107];\n",
    "#Computamos la solucion al sistema:\n",
    "f = -inv(A_matriz)*b_vector\n",
    "#La solucion del sistema, f, nos da un vector de 15 elementos, así que nos conviene convertirlo en una matriz de 5x3\n",
    "f_chida =reshape(f,(5,3));\n",
    "#Finalmente la colormesheamos:\n",
    "pcolormesh(f_chida);"
   ]
  },
  {
   "cell_type": "code",
   "execution_count": 3,
   "metadata": {},
   "outputs": [],
   "source": [
    "#El chiste de hacer un programa que construya A y b es el evitar hacer todo el vectorsote que hicimos arriba :v\n",
    "\n",
    "n = 15                                          #Numero de vectores y columnas de la matriz que queremos.\n",
    "Matriz_A = zeros(n,n)                           #Definimos una matriz cuadrada de ceros que vamos ir llenando.\n",
    "for i in 1:n\n",
    "    for j in 1:n\n",
    "        if i==j \n",
    "            Matriz_A[i,j]=-4                    #Para que en la diagonal tengamos -4 como la matriz que nos dio David.\n",
    "        elseif i+1==j\n",
    "            Matriz_A[j,i]=Matriz_A[i,j]=1       #Los 1 que estan más proximos a la diagonal.   \n",
    "       \n",
    "        elseif i+5==j\n",
    "            Matriz_A[j,i]=Matriz_A[i,j]=1       #Los 1 que estan a 5 columnas/filas de la diagonal\n",
    "        end\n",
    "    end\n",
    "end\n",
    "Matriz_A[6,5]=Matriz_A[5,6]=0                   #Recordemos que en el ciclo anterior tenemos que excluir algunos 1 que no forman parte de la matriz A.\n",
    "Matriz_A[11,10]=Matriz_A[10,11]=0\n",
    "\n",
    "Matriz_A;                                       #Regresanos nuestra matriz."
   ]
  },
  {
   "cell_type": "code",
   "execution_count": 4,
   "metadata": {},
   "outputs": [],
   "source": [
    "#Ahora hacemos el vector b:\n",
    "\n",
    "vector_b = zeros(n)                             #Un vector de n entradas, (Que coincida con la matriz de arriba)\n",
    "vector_b[5] = 70.7107                           #Cada uno de los valores que son distintos a cero los ponemos explicitos aqui.\n",
    "vector_b[10] = 100\n",
    "vector_b[15] = 70.7107\n",
    "vector_b;"
   ]
  },
  {
   "cell_type": "code",
   "execution_count": 5,
   "metadata": {},
   "outputs": [],
   "source": [
    "#Finalmente solo resta aplicar la solucion del sistema f=-A^-1(b)\n",
    "\n",
    "F = -inv(Matriz_A)*vector_b                    #Este es un vector columna de 15 elementos.\n",
    "F_mersh = reshape(F,(5,3));                    #Lo hacemos una matriz de 5x3"
   ]
  },
  {
   "cell_type": "code",
   "execution_count": 6,
   "metadata": {},
   "outputs": [
    {
     "data": {
      "image/png": "[encoded data removed]",
      "text/plain": [
       "PyPlot.Figure(PyObject <matplotlib.figure.Figure object at 0x1281c4510>)"
      ]
     },
     "metadata": {},
     "output_type": "display_data"
    }
   ],
   "source": [
    "pcolormesh(F_mersh);"
   ]
  }
 ],
 "metadata": {
  "kernelspec": {
   "display_name": "Julia 0.6.0",
   "language": "julia",
   "name": "julia-0.6"
  },
  "language_info": {
   "file_extension": ".jl",
   "mimetype": "application/julia",
   "name": "julia",
   "version": "0.6.0"
  }
 },
 "nbformat": 4,
 "nbformat_minor": 2
}
