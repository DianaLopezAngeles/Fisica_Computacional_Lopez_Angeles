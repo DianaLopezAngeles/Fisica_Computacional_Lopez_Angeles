{
 "cells": [
  {
   "cell_type": "markdown",
   "metadata": {},
   "source": [
    "# Tarea 6\n",
    "\n",
    "Fecha de entrega: 5/Septiembre/2017\n",
    "\n",
    "Por: _Diana López Angeles_"
   ]
  },
  {
   "cell_type": "markdown",
   "metadata": {},
   "source": [
    "### **Ejercicio 1:** Sumas de Riemann"
   ]
  },
  {
   "cell_type": "code",
   "execution_count": 1,
   "metadata": {
    "collapsed": true
   },
   "outputs": [],
   "source": [
    "function f(x)    #Definimos una función que es a la que le vamos a aplicar el metodo de integración.\n",
    "    x^2\n",
    "end;"
   ]
  },
  {
   "cell_type": "code",
   "execution_count": 2,
   "metadata": {
    "collapsed": true
   },
   "outputs": [],
   "source": [
    "function sumas_Riemann(f,a,b,subintervalos)            #Definimos nuestra función\n",
    "    N = subintervalos                                  #Re-definimos nuetras variables que entran en la función.\n",
    "    A = a\n",
    "    B = b\n",
    "    datos = []                                         #Ponemos una lista para que aqui más tarde guardemos nuestras sumas.\n",
    "    suma = 0                                           #Ponemos estas variables igual a cero para poder usarla despues en el ciclo.\n",
    "    area_bajo_la_curva = 0\n",
    "\n",
    "    for i in 1:N                                       #Un ciclo for para obtener el área de los N-subintervalos\n",
    "        b = ((B-A)/N)*(i) - A                          \n",
    "        a = A + ((B-A)/N)*(i-1)\n",
    "        area_bajo_la_curva = (b-a)*(f((b+a)/2))        #Aqui se hace la suma de Riemann.\n",
    "        push!(datos,area_bajo_la_curva)                #Con este push guardamos las áreas en nuestra lista de datos.\n",
    "    end\n",
    "    suma = sum(datos,1:N)                              #Aqui se hacen las sumas de los n-subintervalos guardados en la lista de datos.\n",
    "    print(\"La aproximacion de la función por Sumas de Riemann es: \", suma)\n",
    "end;"
   ]
  },
  {
   "cell_type": "code",
   "execution_count": 3,
   "metadata": {},
   "outputs": [
    {
     "name": "stdout",
     "output_type": "stream",
     "text": [
      "La aproximacion de la función por Sumas de Riemann es: [0.333333]"
     ]
    }
   ],
   "source": [
    "sumas_Riemann(f,0,1,1000)"
   ]
  },
  {
   "cell_type": "markdown",
   "metadata": {},
   "source": [
    "### **Ejercicio 2:** Método del trapecio"
   ]
  },
  {
   "cell_type": "code",
   "execution_count": 4,
   "metadata": {
    "collapsed": true
   },
   "outputs": [],
   "source": [
    "#Este codigo es una copia del pasado, sin embargo difiere en solo una línea del mismo:\n",
    "\n",
    "function metodo_trapecio(f,a,b,subintervalos)            \n",
    "    N = subintervalos                                  \n",
    "    A = a\n",
    "    B = b\n",
    "    datos = []                                         \n",
    "    suma = 0                                            \n",
    "    area_bajo_la_curva = 0\n",
    "\n",
    "    for i in 1:N\n",
    "        b = ((B-A)/N)*(i) - A\n",
    "        a = A + ((B-A)/N)*(i-1)\n",
    "        area_bajo_la_curva = (b-a)*((f(b)+f(a))/2)     #Aquí se hace el método del trapecio.\n",
    "        push!(datos,area_bajo_la_curva)\n",
    "    end\n",
    "    suma = sum(datos,1:N)\n",
    "    print(\"La aproximacion de la función por Método del trapecio es: \", suma)\n",
    "end;"
   ]
  },
  {
   "cell_type": "code",
   "execution_count": 5,
   "metadata": {},
   "outputs": [
    {
     "name": "stdout",
     "output_type": "stream",
     "text": [
      "La aproximacion de la función por Método del trapecio es: [0.33335]"
     ]
    }
   ],
   "source": [
    "metodo_trapecio(f,0,1,100)"
   ]
  }
 ],
 "metadata": {
  "kernelspec": {
   "display_name": "Julia 0.6.0",
   "language": "julia",
   "name": "julia-0.6"
  },
  "language_info": {
   "file_extension": ".jl",
   "mimetype": "application/julia",
   "name": "julia",
   "version": "0.6.0"
  }
 },
 "nbformat": 4,
 "nbformat_minor": 2
}
