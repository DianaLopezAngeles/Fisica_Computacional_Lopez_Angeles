{
 "cells": [
  {
   "cell_type": "markdown",
   "metadata": {},
   "source": [
    "# Tarea 15\n",
    "\n",
    "Fecha de entrega: 17/Octubre/2017\n",
    "\n",
    "Por _Diana López Angeles_\n",
    "\n",
    "-----"
   ]
  },
  {
   "cell_type": "markdown",
   "metadata": {},
   "source": [
    "# Librerias"
   ]
  },
  {
   "cell_type": "markdown",
   "metadata": {},
   "source": [
    "__Ejercicio 1:__ Crear la libreria herramientas dentro de su carpeta de tareas, en su repositorio. Dentro deberán poner los métodos de Newton que construyeron, los métodos de integración, Euler independiente de dimensión (implícito y explícito)y Runge-Kutta independiente de dimensión. Recuerden que las rutinas deben funcionar solo con sus argumentos, no debe haber variables globales, todo lo que necesite la función para trabajar debe ser un argumento o una variable definida internamente.\n",
    "* Las rutinas tienen que llevar su documentación.\n",
    "* Crearán el notebook de la __tarea 15 (para el Martes 17)__ y en el llamarán a su libreria con el comando `import`.\n",
    "* Deberán demostrar que sus rutinas funcionan bien, no se necesitan tests extensos, basta con que muestren que si _corren_ las rutinas."
   ]
  },
  {
   "cell_type": "code",
   "execution_count": 1,
   "metadata": {},
   "outputs": [
    {
     "data": {
      "text/plain": [
       "herramientas"
      ]
     },
     "execution_count": 1,
     "metadata": {},
     "output_type": "execute_result"
    }
   ],
   "source": [
    "__precompile__()\n",
    "\n",
    "module herramientas\n",
    "\n",
    "#Cargamos nuestros programas de la tarea 4:\n",
    "export metodo_newton_arbitrario\n",
    "function metodo_newton_arbitrario(f,df,x0,t)\n",
    "    x = x0\n",
    "    for i in 1:100                             \n",
    "        x=x-(f(x)/df(x))                       \n",
    "    end\n",
    "return x\n",
    "end;\n",
    "\n",
    "export metodo_newton_intervalo\n",
    "function metodo_newton_intervalo(f,df,intervalo)    \n",
    "    list=zeros(length(intervalo))                   \n",
    "    x = 0                                           \n",
    "    for i in 1:length(intervalo)                    \n",
    "        x = intervalo[i]                            \n",
    "        for n in 1:200                              \n",
    "            x = x-(f(x)/df(x))                      \n",
    "            end                                     \n",
    "    list[i]=x;                                      \n",
    "    end\n",
    "    list                                            \n",
    "end;\n",
    "\n",
    "export metodo_newton_epsilon\n",
    "function metodo_newton_epsilon(f,df,intervalo)          \n",
    "    t = []                                          \n",
    "    epsilon = 10.0^-8                               \n",
    "    list = metodo_newton_intervalo(f,df,intervalo)  \n",
    "    push!(t,list[1])                                \n",
    "    for i in 1:length(t)                            \n",
    "        for n in 1:length(list)                     \n",
    "            if abs(t[i]-list[n]) > epsilon          \n",
    "                push!(t,list[n])                    \n",
    "                end                               \n",
    "        end\n",
    "        return t                                            \n",
    "    end\n",
    "end\n",
    "\n",
    "#Cargamos los programas de la tarea 5: Metodos de integracion\n",
    "export sumas_Riemann\n",
    "function sumas_Riemann(f,a,b,subintervalos)         \n",
    "    N = subintervalos                                 \n",
    "    A = a\n",
    "    B = b\n",
    "    datos = []                                      \n",
    "    suma = 0                                          \n",
    "    area_bajo_la_curva = 0\n",
    "    for i in 1:N                                       \n",
    "        b = ((B-A)/N)*(i) - A                          \n",
    "        a = A + ((B-A)/N)*(i-1)\n",
    "        area_bajo_la_curva = (b-a)*(f((b+a)/2))        \n",
    "        push!(datos,area_bajo_la_curva)              \n",
    "    end\n",
    "    suma = sum(datos,1:N)                             \n",
    "return suma\n",
    "end;\n",
    "\n",
    "export metodo_trapecio\n",
    "function metodo_trapecio(f,a,b,subintervalos)            \n",
    "    N = subintervalos                                  \n",
    "    A = a\n",
    "    B = b\n",
    "    datos = []                                         \n",
    "    suma = 0                                            \n",
    "    area_bajo_la_curva = 0\n",
    "\n",
    "    for i in 1:N\n",
    "        b = ((B-A)/N)*(i) - A\n",
    "        a = A + ((B-A)/N)*(i-1)\n",
    "        area_bajo_la_curva = (b-a)*((f(b)+f(a))/2) \n",
    "        push!(datos,area_bajo_la_curva)\n",
    "    end\n",
    "    suma = sum(datos,1:N)\n",
    "return suma\n",
    "end;\n",
    "\n",
    "#Cargamos los programas de la tarea 7:\n",
    "export metodo_simpson\n",
    "function metodo_simpson(f,a,b,subintervalos)           \n",
    "    N = subintervalos                                  \n",
    "    A = a\n",
    "    B = b\n",
    "    datos = []                                         \n",
    "    suma = 0                                           \n",
    "    area_bajo_la_curva = 0\n",
    "\n",
    "    for i in 1:N\n",
    "        b = ((B-A)/N)*(i) - A\n",
    "        a = A + ((B-A)/N)*(i-1)\n",
    "        area_bajo_la_curva = (b-a)/6*((f(a)+4f((a+b)/2))+f(b))\n",
    "        push!(datos,area_bajo_la_curva)\n",
    "    end\n",
    "    suma = sum(datos,1:N)\n",
    "return suma\n",
    "end;\n",
    "\n",
    "#Cargamos programas de la tarea 8:\n",
    "\n",
    "export derivada_numerica\n",
    "function derivada_numerica(f,x,h)\n",
    "    df_ = (f(h+x)-f(x))/h \n",
    "    return df_ \n",
    "end;\n",
    "\n",
    "#Cargamos programas de la tarea 11:\n",
    "\n",
    "export metodo_euler\n",
    "function metodo_euler(f,x0,t0,tf,h) \n",
    "    n=round((tf-t0)/h)+1                 \n",
    "    listt=linspace(t0,tf,n)             \n",
    "    listx=zeros(n)         \n",
    "    listx[1]=x0             \n",
    "    for i in 1:length(listx)-1   \n",
    "        listx[i+1]=listx[i]+h*f(listx[i],listt[i])\n",
    "    end\n",
    "    return listt, listx\n",
    "end;\n",
    "\n",
    "export metodo_euler_dimensiones\n",
    "function metodo_euler_dimensiones(f,list,x0)\n",
    "     x = x0\n",
    "     h = list[2]-list[1]\n",
    "     listx=[]\n",
    "     push!(listx,x)\n",
    "     for i in 2:length(list)\n",
    "        t = i*h\n",
    "        x = x + f(x,t)*h\n",
    "        push!(listx,x) \n",
    "     end\n",
    "     return listx\n",
    "    end;\n",
    "\n",
    "#Cargamos programas de la tarea 12:\n",
    "export euler_implicito\n",
    "function euler_implicito(f,df,x0,t0,tf,h)\n",
    "    n=round((tf-t0)/h)+1                 \n",
    "    listt=linspace(t0,tf,n)\n",
    "    listx = zeros(length(listt))\n",
    "    x = x0 \n",
    "    listx[1] = x0\n",
    "    for i in 2:length(listt)\n",
    "        g(x) = x - listx[i-1] - h*f(x,listt[i])\n",
    "        dg(x) = 1 - h*df(x,listt[i])\n",
    "        x = metodo_newton_arbitrario(g,dg,listx[i-1],listt[i])\n",
    "        listx[i] = x\n",
    "    end\n",
    "    return (listt,listx)\n",
    "end;\n",
    "\n",
    "export euler_punto_medio\n",
    "function euler_punto_medio(f,x0,t0,tf,h)\n",
    "    n=round((tf-t0)/h)+1                 \n",
    "    listt=linspace(t0,tf,n)             \n",
    "    listx=zeros(n)\n",
    "    listx[1]=x0                              \n",
    "    for i in 1:length(listx)-1               \n",
    "        listx[i+1]=listx[i]+h*f((listx[i]+(h/2)f(listx[i],listt[i])),listt[i+1])\n",
    "    end\n",
    "    return listt, listx\n",
    "end;\n",
    "\n",
    "export runge_kutta_4\n",
    "function runge_kutta_4(f,x0,t0,tf,h)\n",
    "    n=round((tf-t0)/h)+1               \n",
    "    listt=linspace(t0,tf,n) \n",
    "    listx=zeros(n)  \n",
    "    listx[1] = x0 \n",
    "    for i in 1:length(listx)-1\n",
    "        k1 = f(listx[i], listt[i])\n",
    "        k2 = f(listx[i] + h*(k1)/2, listt[i+1])\n",
    "        k3 = f(listx[i] + h*(k2)/2, listt[i+1])\n",
    "        k4 = f(listx[i] + h*(k3), listt[i],)\n",
    "        listx[i+1] = listx[i] + h/6*(k1 + 2*(k2) + 2*(k3) + k4)\n",
    "    end\n",
    "    return listt,listx\n",
    "end;\n",
    "\n",
    "export runge_kutta_dimensiones\n",
    "function runge_kutta_dimensiones(f,list,x0)\n",
    "     x = x0\n",
    "     h = list[2]-list[1]\n",
    "     listx=[]\n",
    "     push!(listx,x)\n",
    "     for i in 2:length(list)\n",
    "        t = i*h\n",
    "        k1 = f(x,t);\n",
    "        k2 = f(x+(h/2)*k1,t+(h/2));\n",
    "        k3 = f(x+(h/2)*k2, t+(h/2));\n",
    "        k4 = f(x+h*k3, t+h);\n",
    "        x = x+(h/6)*(k1+2*k2+2*k3+k4);\n",
    "        push!(listx,x) \n",
    "     end\n",
    "     return listx\n",
    "end;\n",
    "end"
   ]
  },
  {
   "cell_type": "markdown",
   "metadata": {},
   "source": [
    "##### Metodo de Newton Arbitrario:"
   ]
  },
  {
   "cell_type": "code",
   "execution_count": 2,
   "metadata": {
    "collapsed": true
   },
   "outputs": [],
   "source": [
    "import herramientas"
   ]
  },
  {
   "cell_type": "code",
   "execution_count": 3,
   "metadata": {},
   "outputs": [
    {
     "data": {
      "text/plain": [
       "1.8392867552141612"
      ]
     },
     "execution_count": 3,
     "metadata": {},
     "output_type": "execute_result"
    }
   ],
   "source": [
    "herramientas.metodo_newton_arbitrario(x->x^3-x^2-x-1,x->3x^2-2x-1,45,1)"
   ]
  },
  {
   "cell_type": "markdown",
   "metadata": {},
   "source": [
    "##### Metodo de Newton Intervalo:"
   ]
  },
  {
   "cell_type": "code",
   "execution_count": 4,
   "metadata": {},
   "outputs": [
    {
     "data": {
      "text/plain": [
       "3-element Array{Float64,1}:\n",
       " 1.83929\n",
       " 1.83929\n",
       " 1.83929"
      ]
     },
     "execution_count": 4,
     "metadata": {},
     "output_type": "execute_result"
    }
   ],
   "source": [
    "herramientas.metodo_newton_intervalo(x->x^3-x^2-x-1,x->3x^2-2x-1,linspace(0,10,3))"
   ]
  },
  {
   "cell_type": "markdown",
   "metadata": {},
   "source": [
    "##### Metodo de Newton Epsilon:"
   ]
  },
  {
   "cell_type": "code",
   "execution_count": 5,
   "metadata": {},
   "outputs": [
    {
     "data": {
      "text/plain": [
       "1-element Array{Any,1}:\n",
       " 1.83929"
      ]
     },
     "execution_count": 5,
     "metadata": {},
     "output_type": "execute_result"
    }
   ],
   "source": [
    "herramientas.metodo_newton_epsilon(x->x^3-x^2-x-1,x->3x^2-2x-1,linspace(0,19,5))"
   ]
  },
  {
   "cell_type": "markdown",
   "metadata": {},
   "source": [
    "##### Sumas de Riemann:"
   ]
  },
  {
   "cell_type": "code",
   "execution_count": 6,
   "metadata": {},
   "outputs": [
    {
     "data": {
      "text/plain": [
       "1-element Array{Float64,1}:\n",
       " 0.25"
      ]
     },
     "execution_count": 6,
     "metadata": {},
     "output_type": "execute_result"
    }
   ],
   "source": [
    "herramientas.sumas_Riemann(x->x^3,0,1,1000)"
   ]
  },
  {
   "cell_type": "markdown",
   "metadata": {},
   "source": [
    "##### Metodo del trapecio:"
   ]
  },
  {
   "cell_type": "code",
   "execution_count": 7,
   "metadata": {},
   "outputs": [
    {
     "data": {
      "text/plain": [
       "1-element Array{Float64,1}:\n",
       " 0.25"
      ]
     },
     "execution_count": 7,
     "metadata": {},
     "output_type": "execute_result"
    }
   ],
   "source": [
    "herramientas.metodo_trapecio(x->x^3,0,1,1000)"
   ]
  },
  {
   "cell_type": "markdown",
   "metadata": {},
   "source": [
    "##### Metodo de Simpson:"
   ]
  },
  {
   "cell_type": "code",
   "execution_count": 8,
   "metadata": {},
   "outputs": [
    {
     "data": {
      "text/plain": [
       "1-element Array{Float64,1}:\n",
       " 0.25"
      ]
     },
     "execution_count": 8,
     "metadata": {},
     "output_type": "execute_result"
    }
   ],
   "source": [
    "herramientas.metodo_simpson(x->x^3,0,1,1000)"
   ]
  },
  {
   "cell_type": "markdown",
   "metadata": {},
   "source": [
    "##### Derivada númerica:"
   ]
  },
  {
   "cell_type": "code",
   "execution_count": 9,
   "metadata": {},
   "outputs": [
    {
     "data": {
      "text/plain": [
       "10303.0"
      ]
     },
     "execution_count": 9,
     "metadata": {},
     "output_type": "execute_result"
    }
   ],
   "source": [
    "herramientas.derivada_numerica(x->x^3,1,100)"
   ]
  },
  {
   "cell_type": "markdown",
   "metadata": {},
   "source": [
    "##### Metodo de Euler:"
   ]
  },
  {
   "cell_type": "code",
   "execution_count": 10,
   "metadata": {},
   "outputs": [
    {
     "data": {
      "text/plain": [
       "(0.0:0.5:8.0, [1.0, -0.25, 0.0625, -0.015625, 0.00390625, -0.000976563, 0.000244141, -6.10352e-5, 1.52588e-5, -3.8147e-6, 9.53674e-7, -2.38419e-7, 5.96046e-8, -1.49012e-8, 3.72529e-9, -9.31323e-10, 2.32831e-10])"
      ]
     },
     "execution_count": 10,
     "metadata": {},
     "output_type": "execute_result"
    }
   ],
   "source": [
    "herramientas.metodo_euler((x,t)->-(2.5)*x,1,0,8,0.5)"
   ]
  },
  {
   "cell_type": "markdown",
   "metadata": {},
   "source": [
    "##### Metodo de Euler varias dimensiones:"
   ]
  },
  {
   "cell_type": "code",
   "execution_count": 11,
   "metadata": {},
   "outputs": [
    {
     "data": {
      "text/plain": [
       "1001-element Array{Any,1}:\n",
       " [0, 2]               \n",
       " [0.02, 2.0]          \n",
       " [0.04, 1.9998]       \n",
       " [0.059998, 1.9994]   \n",
       " [0.079992, 1.9988]   \n",
       " [0.09998, 1.998]     \n",
       " [0.11996, 1.997]     \n",
       " [0.13993, 1.9958]    \n",
       " [0.159888, 1.9944]   \n",
       " [0.179832, 1.9928]   \n",
       " [0.19976, 1.991]     \n",
       " [0.21967, 1.98901]   \n",
       " [0.23956, 1.98681]   \n",
       " ⋮                    \n",
       " [-0.942105, -1.87836]\n",
       " [-0.960889, -1.86894]\n",
       " [-0.979578, -1.85933]\n",
       " [-0.998171, -1.84954]\n",
       " [-1.01667, -1.83955] \n",
       " [-1.03506, -1.82939] \n",
       " [-1.05336, -1.81904] \n",
       " [-1.07155, -1.8085]  \n",
       " [-1.08963, -1.79779] \n",
       " [-1.10761, -1.78689] \n",
       " [-1.12548, -1.77581] \n",
       " [-1.14324, -1.76456] "
      ]
     },
     "execution_count": 11,
     "metadata": {},
     "output_type": "execute_result"
    }
   ],
   "source": [
    "herramientas.metodo_euler_dimensiones((x,t)->[x[2], -1.0*x[1]],0:0.01:10,[0,2])"
   ]
  },
  {
   "cell_type": "markdown",
   "metadata": {},
   "source": [
    "##### Euler implicito:"
   ]
  },
  {
   "cell_type": "code",
   "execution_count": 12,
   "metadata": {},
   "outputs": [
    {
     "data": {
      "text/plain": [
       "(0.0:0.01:8.0, [1.0, 0.97561, 0.951814, 0.928599, 0.905951, 0.883854, 0.862297, 0.841265, 0.820747, 0.800728  …  3.29172e-9, 3.21143e-9, 3.1331e-9, 3.05669e-9, 2.98213e-9, 2.9094e-9, 2.83844e-9, 2.76921e-9, 2.70167e-9, 2.63577e-9])"
      ]
     },
     "execution_count": 12,
     "metadata": {},
     "output_type": "execute_result"
    }
   ],
   "source": [
    "herramientas.euler_implicito((x,t)->-2.5x,(x,t)->-2.5,1,0,8,.01)"
   ]
  },
  {
   "cell_type": "markdown",
   "metadata": {},
   "source": [
    "##### Euler punto medio:"
   ]
  },
  {
   "cell_type": "code",
   "execution_count": 13,
   "metadata": {},
   "outputs": [
    {
     "data": {
      "text/plain": [
       "(0.0:0.01:8.0, [1.0, 0.975313, 0.951234, 0.927751, 0.904847, 0.882509, 0.860722, 0.839473, 0.818748, 0.798535  …  2.58665e-9, 2.52279e-9, 2.46051e-9, 2.39977e-9, 2.34053e-9, 2.28274e-9, 2.22639e-9, 2.17142e-9, 2.11782e-9, 2.06553e-9])"
      ]
     },
     "execution_count": 13,
     "metadata": {},
     "output_type": "execute_result"
    }
   ],
   "source": [
    "herramientas.euler_punto_medio((x,t)->-2.5x,1,0,8,0.01)"
   ]
  },
  {
   "cell_type": "markdown",
   "metadata": {},
   "source": [
    "##### Runge Kutta 4"
   ]
  },
  {
   "cell_type": "code",
   "execution_count": 14,
   "metadata": {},
   "outputs": [
    {
     "data": {
      "text/plain": [
       "(0.0:0.01:8.0, [1.0, 0.97531, 0.951229, 0.927743, 0.904837, 0.882497, 0.860708, 0.839457, 0.818731, 0.798516  …  2.58123e-9, 2.5175e-9, 2.45534e-9, 2.39472e-9, 2.33559e-9, 2.27793e-9, 2.22168e-9, 2.16683e-9, 2.11333e-9, 2.06115e-9])"
      ]
     },
     "execution_count": 14,
     "metadata": {},
     "output_type": "execute_result"
    }
   ],
   "source": [
    "herramientas.runge_kutta_4((x,t)->-2.5x,1,0,8,.01)"
   ]
  },
  {
   "cell_type": "markdown",
   "metadata": {},
   "source": [
    "##### Runge Kutta orden 4, varias dimensiones:"
   ]
  },
  {
   "cell_type": "code",
   "execution_count": 15,
   "metadata": {},
   "outputs": [
    {
     "data": {
      "text/plain": [
       "1001-element Array{Any,1}:\n",
       " [1, 0]                    \n",
       " [0.99995, -0.00995]       \n",
       " [0.999801, -0.0198]       \n",
       " [0.999554, -0.02955]      \n",
       " [0.999211, -0.0392001]    \n",
       " [0.998771, -0.0487503]    \n",
       " [0.998236, -0.0582005]    \n",
       " [0.997607, -0.067551]     \n",
       " [0.996885, -0.0768017]    \n",
       " [0.996071, -0.0859527]    \n",
       " [0.995167, -0.0950041]    \n",
       " [0.994172, -0.103956]     \n",
       " [0.993088, -0.112808]     \n",
       " ⋮                         \n",
       " [-0.00153155, -0.00622848]\n",
       " [-0.00159345, -0.00615096]\n",
       " [-0.00165457, -0.0060736] \n",
       " [-0.00171492, -0.0059964] \n",
       " [-0.0017745, -0.00591937] \n",
       " [-0.00183331, -0.00584252]\n",
       " [-0.00189135, -0.00576586]\n",
       " [-0.00194863, -0.00568938]\n",
       " [-0.00200514, -0.0056131] \n",
       " [-0.00206089, -0.00553702]\n",
       " [-0.00211588, -0.00546114]\n",
       " [-0.00217012, -0.00538548]"
      ]
     },
     "execution_count": 15,
     "metadata": {},
     "output_type": "execute_result"
    }
   ],
   "source": [
    "herramientas.runge_kutta_dimensiones((x,t)->[x[2], -1.0*x[1]-x[2]],0:0.01:10,[1,0])"
   ]
  }
 ],
 "metadata": {
  "kernelspec": {
   "display_name": "Julia 0.6.0",
   "language": "julia",
   "name": "julia-0.6"
  },
  "language_info": {
   "file_extension": ".jl",
   "mimetype": "application/julia",
   "name": "julia",
   "version": "0.6.0"
  }
 },
 "nbformat": 4,
 "nbformat_minor": 2
}
