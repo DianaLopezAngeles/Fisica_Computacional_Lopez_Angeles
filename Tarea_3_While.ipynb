{
 "cells": [
  {
   "cell_type": "code",
   "execution_count": 1,
   "metadata": {
    "collapsed": false
   },
   "outputs": [
    {
     "data": {
      "text/plain": [
       "metodo_Newton (generic function with 1 method)"
      ]
     },
     "execution_count": 1,
     "metadata": {},
     "output_type": "execute_result"
    }
   ],
   "source": [
    "function metodo_Newton(A,b) #Definimos nuestra función\n",
    "    a = b                   #Definimos unas cuantas variables\n",
    "    f(x) = (x)*tan(x)-sqrt(complex(A-x^(2)))\n",
    "    #Esta es la función a la que le queremos aplicar metodo de Newton\n",
    "    df(x) = tan(x)+(x)*(sec(x))^2+((x)/(sqrt(complex(A-x^2))))\n",
    "    #La derivada de nuestra función\n",
    "    \n",
    "    #Aqui hacemos un ciclo para hacer nuestras iteraciones\n",
    "    while (abs(f(a)) > 0.0000001)\n",
    "            a = a-(f(a)/df(a))\n",
    "        end\n",
    "    return a\n",
    "    end"
   ]
  },
  {
   "cell_type": "code",
   "execution_count": 2,
   "metadata": {
    "collapsed": false
   },
   "outputs": [
    {
     "data": {
      "text/plain": [
       "3.161642095039804 + 9.815632242763297e-11im"
      ]
     },
     "execution_count": 2,
     "metadata": {},
     "output_type": "execute_result"
    }
   ],
   "source": [
    "metodo_Newton(10,3.1)"
   ]
  },
  {
   "cell_type": "code",
   "execution_count": 3,
   "metadata": {
    "collapsed": false
   },
   "outputs": [
    {
     "data": {
      "text/plain": [
       "1.1862608165105606 + 0.0im"
      ]
     },
     "execution_count": 3,
     "metadata": {},
     "output_type": "execute_result"
    }
   ],
   "source": [
    "metodo_Newton(10,1.1)"
   ]
  },
  {
   "cell_type": "code",
   "execution_count": 5,
   "metadata": {
    "collapsed": false
   },
   "outputs": [
    {
     "data": {
      "text/plain": [
       "-1.1862608165105606 + 0.0im"
      ]
     },
     "execution_count": 5,
     "metadata": {},
     "output_type": "execute_result"
    }
   ],
   "source": [
    "metodo_Newton(10,-1.1)"
   ]
  },
  {
   "cell_type": "code",
   "execution_count": 7,
   "metadata": {
    "collapsed": false
   },
   "outputs": [
    {
     "data": {
      "text/plain": [
       "3.1616420951108335 + 1.5078916554842194e-10im"
      ]
     },
     "execution_count": 7,
     "metadata": {},
     "output_type": "execute_result"
    }
   ],
   "source": [
    "metodo_Newton(10,.5)"
   ]
  },
  {
   "cell_type": "code",
   "execution_count": 10,
   "metadata": {
    "collapsed": false
   },
   "outputs": [
    {
     "data": {
      "text/plain": [
       "3.193863630776044 + 0.0im"
      ]
     },
     "execution_count": 10,
     "metadata": {},
     "output_type": "execute_result"
    }
   ],
   "source": [
    "m = (3.1) - ((3.1)*tan(3.1)-sqrt(complex(10-(3.1)^(2))))/(tan(3.1)+(3.1)*(sec(3.1))^2+((3.1)/(sqrt(complex(10-(3.1)^2)))))"
   ]
  },
  {
   "cell_type": "code",
   "execution_count": 11,
   "metadata": {
    "collapsed": false
   },
   "outputs": [
    {
     "data": {
      "text/plain": [
       "3.161642095039804 + 9.815632242763297e-11im"
      ]
     },
     "execution_count": 11,
     "metadata": {},
     "output_type": "execute_result"
    }
   ],
   "source": [
    "3.161642095039804 + 9.815632242763297e-11im"
   ]
  },
  {
   "cell_type": "code",
   "execution_count": null,
   "metadata": {
    "collapsed": true
   },
   "outputs": [],
   "source": []
  }
 ],
 "metadata": {
  "kernelspec": {
   "display_name": "Julia 0.6.0",
   "language": "julia",
   "name": "julia-0.6"
  },
  "language_info": {
   "file_extension": ".jl",
   "mimetype": "application/julia",
   "name": "julia",
   "version": "0.6.0"
  }
 },
 "nbformat": 4,
 "nbformat_minor": 2
}
