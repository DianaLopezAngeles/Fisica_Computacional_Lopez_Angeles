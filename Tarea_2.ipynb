{
 "cells": [
  {
   "cell_type": "code",
   "execution_count": 10,
   "metadata": {
    "collapsed": false
   },
   "outputs": [
    {
     "data": {
      "text/plain": [
       "metodo_Newton (generic function with 1 method)"
      ]
     },
     "execution_count": 10,
     "metadata": {},
     "output_type": "execute_result"
    }
   ],
   "source": [
    "function metodo_Newton(A,b) #Definimos nuestra función\n",
    "    a = b                   #Definimos unas cuantas variables\n",
    "    c = 0\n",
    "    f(x) = (x)*tan(x)-sqrt(complex(A-x^(2)))\n",
    "    #Esta es la función a la que le queremos aplicar metodo de Newton\n",
    "    df(x) = tan(x)+(x)*(sec(x))^2+((x)/(sqrt(complex(A-x^2))))\n",
    "    #La derivada de nuestra función\n",
    "    \n",
    "    error = 1 #Aqui hacemos un ciclo para hacer nuestras iteraciones\n",
    "    while error > 0.0000001\n",
    "            c = a-(f(a)/df(a))\n",
    "            error = abs(c-a)\n",
    "            a = c\n",
    "        end\n",
    "    return a\n",
    "    end"
   ]
  },
  {
   "cell_type": "code",
   "execution_count": 12,
   "metadata": {
    "collapsed": false
   },
   "outputs": [
    {
     "data": {
      "text/plain": [
       "3.1616420951062096 + 0.0im"
      ]
     },
     "execution_count": 12,
     "metadata": {},
     "output_type": "execute_result"
    }
   ],
   "source": [
    "metodo_Newton(10,3.16) #Esta es una raíz de f(x)"
   ]
  },
  {
   "cell_type": "code",
   "execution_count": 13,
   "metadata": {
    "collapsed": false
   },
   "outputs": [
    {
     "data": {
      "text/plain": [
       "1.1862608165029158 + 0.0im"
      ]
     },
     "execution_count": 13,
     "metadata": {},
     "output_type": "execute_result"
    }
   ],
   "source": [
    "metodo_Newton(10,1.18) #Esta es una raíz de f(x)"
   ]
  },
  {
   "cell_type": "code",
   "execution_count": 3,
   "metadata": {
    "collapsed": false
   },
   "outputs": [
    {
     "data": {
      "text/plain": [
       "7.65654206702493e-12 + 0.0im"
      ]
     },
     "execution_count": 3,
     "metadata": {},
     "output_type": "execute_result"
    }
   ],
   "source": [
    "y = (3.1616420951062096 + 0.0im)*tan(3.1616420951062096 + 0.0im)-sqrt(complex(10-(3.1616420951062096 + 0.0im)^(2))) #Lo cual esta perfecto pues tiene que tender a cero."
   ]
  },
  {
   "cell_type": "code",
   "execution_count": null,
   "metadata": {
    "collapsed": true
   },
   "outputs": [],
   "source": []
  }
 ],
 "metadata": {
  "kernelspec": {
   "display_name": "Julia 0.6.0",
   "language": "julia",
   "name": "julia-0.6"
  },
  "language_info": {
   "file_extension": ".jl",
   "mimetype": "application/julia",
   "name": "julia",
   "version": "0.6.0"
  }
 },
 "nbformat": 4,
 "nbformat_minor": 2
}
