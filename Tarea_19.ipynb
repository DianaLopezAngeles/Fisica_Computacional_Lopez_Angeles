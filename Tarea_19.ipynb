{
 "cells": [
  {
   "cell_type": "markdown",
   "metadata": {},
   "source": [
    "# Tarea 19\n",
    "\n",
    "Fecha de entrega: 7/Noviembre/2017\n",
    "\n",
    "Por _Diana López Angeles_\n",
    "\n",
    "-----"
   ]
  },
  {
   "cell_type": "markdown",
   "metadata": {},
   "source": [
    "### Ejercicio 1 "
   ]
  },
  {
   "cell_type": "markdown",
   "metadata": {},
   "source": [
    "Escriba la forma del operador laplaciano utilizando diferencias finitas simétricas. Es decir, discretice: $\\nabla^2=\\frac{\\partial^2 f}{\\partial x^2}+\\frac{\\partial^2 f}{\\partial y^2}+\\frac{\\partial^2 f}{\\partial z^2}$"
   ]
  },
  {
   "cell_type": "markdown",
   "metadata": {},
   "source": [
    "Sabemos que la aproximación de la diferencia central de la segunda derivada de f es:\n",
    "$$f''(x) = \\frac{f(x+h)-2f(x)+f(x-h)}{h^2} $$\n",
    "\n",
    "Aplicando \n",
    "$$\n",
    "\\frac{\\partial^2 f}{\\partial x^2},\\frac{\\partial^2 f}{\\partial y^2},\\frac{\\partial^2 f}{\\partial z^2}\n",
    "$$\n",
    "\n",
    "Podemos escribir el laplaciano como:\n",
    "\n",
    "$$\\nabla^2= \\frac{f(x+h,y,z)-2f(x,y,z)+f(x-h,y,z)}{h^2}+\\frac{f(x,y+h,z)-2f(x,y,z)+f(x,y-h,z)}{h^2}+\\frac{f(x,y,z+h)-2f(x,y,z)+f(x,y,z-h)}{h^2}$$\n",
    "\n",
    "Luego\n",
    "\n",
    "$$\\nabla^2= \\frac{f(x+h,y,z)-2f(x,y,z)+f(x-h,y,z)+f(x,y+h,z)-2f(x,y,z)+f(x,y-h,z)+f(x,y,z+h)-2f(x,y,z)+f(x,y,z-h)}{h^2}$$\n",
    "\n",
    "Finalmente:\n",
    "\n",
    "$$\\nabla^2= \\frac{f(x+h,y,z)+f(x-h,y,z)+f(x,y+h,z)+f(x,y-h,z)+f(x,y,z+h)+f(x,y,z-h)-6f(x,y,z)}{h^2}$$"
   ]
  },
  {
   "cell_type": "markdown",
   "metadata": {},
   "source": [
    "### Ejercicio 2 (condiciones a la frontera de Dirichlet)"
   ]
  },
  {
   "cell_type": "markdown",
   "metadata": {},
   "source": [
    "Discretice la ecuación \n",
    "$$ \\frac{d^2f}{dx^2}, $$\n",
    "en el intervalo $[0,1]$, y aplicando el operador laplaciano discretizado obtenga el sistema de ecuaciones algebraicas lineales correspondientes al problema de _Dirichlet_:\n",
    "$f(0) = a$ y $f(1) = b$ dividiendo el intervalo $[0,1]$ en $5$ puntos separados por $h$.\n",
    "\n",
    "* Escriba el sistema lineal de ecuaciones que surge, usando $\\LaTeX$ en el _notebook_ de la tarea que sigue."
   ]
  },
  {
   "cell_type": "markdown",
   "metadata": {},
   "source": [
    "Igualamos $f''(x)$ a cero y de ahí obtenemos\n",
    "\n",
    "$$\n",
    "f(x+h)-2f(x)+f(x-h) = 0\n",
    "$$\n",
    "\n",
    "Aun que otra forma de verlo es:\n",
    "\n",
    "$$\n",
    "f(x_{i+1})-2f(x)+f(x_{x-i}) = 0\n",
    "$$\n",
    "\n",
    "Podemos verlo de esa forma pues la discretización depende de los puntos de la izquierda y derecha. Luego tenemos que dividir el segmento en cinco puntos:\n",
    "\n",
    "$$\n",
    "x_1= 0\n",
    "$$\n",
    "$$\n",
    "x_2= 1/4\n",
    "$$\n",
    "$$\n",
    "x_3= 2/4\n",
    "$$\n",
    "$$\n",
    "x_4= 3/4\n",
    "$$\n",
    "$$\n",
    "x_5= 1\n",
    "$$\n",
    "\n",
    "Vamos a obtener tres ecuaciones lineales si evaluamos en $x_2,x_3,x_4$:\n",
    "\n",
    "$$\n",
    "f(x_{1})-2f(x_{2})+f(x_{3}) = 0\n",
    "$$\n",
    "$$\n",
    "f(x_{2})-2f(x_{3})+f(x_{4}) = 0\n",
    "$$\n",
    "$$\n",
    "f(x_{3})-2f(x_{4})+f(x_{5}) = 0\n",
    "$$\n",
    "\n",
    "Luego resta sustituir $f(0)= f(x_1) = a$ y $f(1) = f(x_5)= b$ para al fin terminar:\n",
    "\n",
    "$$\n",
    "a-2f(x_{2})+f(x_{3}) = 0\n",
    "$$\n",
    "$$\n",
    "f(x_{2})-2f(x_{3})+f(x_{4}) = 0\n",
    "$$\n",
    "$$\n",
    "f(x_{3})-2f(x_{4})+b = 0\n",
    "$$"
   ]
  },
  {
   "cell_type": "markdown",
   "metadata": {},
   "source": [
    "### Ejercicio 3 (condiciones a la frontera de Neumann)"
   ]
  },
  {
   "cell_type": "markdown",
   "metadata": {},
   "source": [
    "Hacer lo mismo para condiciones de _Neumann_, es decir, fijando en los extremos el valor de la primera derivada de la función. Para esto utilice la derivada _hacia adeltante_ en las orillas, es decir, si $f'(0)=a$ y $f'(1)=b$, entonces $(f_1-f_0)/h=a$, etc. No olvide que debe resultar un sistema de ecuación cuya dimensión sea el número de incognitas.\n",
    "\n",
    "* Escriba el sistema lineal de ecuaciones que surge, usando $\\LaTeX$ en el _notebook_ de la tarea que sigue."
   ]
  },
  {
   "cell_type": "markdown",
   "metadata": {},
   "source": [
    "Partimos de lo que obtuvimos en el ejercicio dos:\n",
    "\n",
    "$$\n",
    "f(x_{1})-2f(x_{2})+f(x_{3}) = 0\n",
    "$$\n",
    "$$\n",
    "f(x_{2})-2f(x_{3})+f(x_{4}) = 0\n",
    "$$\n",
    "$$\n",
    "f(x_{3})-2f(x_{4})+f(x_{5}) = 0\n",
    "$$\n",
    "\n",
    "Aquí tenemos un problema porque no conocemos $f(x_1)$ ni el de $f(x_5)$ pero podemos obtenerlos si despejamos dichos valores de la derivada hacia adelante en las orillas. Entonces:\n",
    "$$\n",
    "f'(x_{1}) = f'(0) = a \n",
    "$$\n",
    "Luego\n",
    "$$\n",
    "\\frac{f(x_{2}) - f(x_{1})}{\\frac{1}{4}} = a\n",
    "$$\n",
    "Entonces:\n",
    "$$\n",
    "f(x_{1}) =f(x_{2}) - \\frac{a}{4}\n",
    "$$\n",
    "Lo mismo para $f'(x_5)$\n",
    "$$\n",
    "f'(x_{5})= f'(1) = b\n",
    "$$\n",
    "\n",
    "$$\n",
    "\\frac{f(x_{5}) - f(x_{4})}{\\frac{1}{4}} =b\n",
    "$$\n",
    "Entonces\n",
    "$$\n",
    "f(x_{5}) = \\frac{b}{4}-f(x_{4})\n",
    "$$\n",
    "\n",
    "Entonces tendriamos un sistema de cinco ecuaciones con cinco incognitas:\n",
    "\n",
    "$$\n",
    "f(x_{1}) = f(x_{2}) - ha\n",
    "$$\n",
    "$$\n",
    "f(x_{1})-2f(x_{2})+f(x_{3}) = 0\n",
    "$$\n",
    "$$\n",
    "f(x_{2})-2f(x_{3})+f(x_{4}) = 0\n",
    "$$\n",
    "$$\n",
    "f(x_{3})-2f(x_{4})+f(x_{5}) = 0\n",
    "$$\n",
    "$$\n",
    "f(x_{5}) = bh - f(x_{4})\n",
    "$$\n"
   ]
  },
  {
   "cell_type": "markdown",
   "metadata": {},
   "source": [
    "### Ejercicio 4 (indexación)"
   ]
  },
  {
   "cell_type": "markdown",
   "metadata": {},
   "source": [
    "`Julia` es más eficiente si se utiliza un único índice para acceder a los elementos\n",
    "de una matriz, además que puede simplificar algunos problemas. Escribe una función $\\phi$ que traduzca un par de\n",
    "índices $i,j$ a un único índice $k$, es decir:\n",
    "$$\\phi: (i,j) \\mapsto k.$$\n",
    "También encuentren $\\phi^{-1}$. Note que $\\phi$ deberá depender de las dimensiones del arreglo, por lo menos de una de ellas."
   ]
  },
  {
   "cell_type": "code",
   "execution_count": 1,
   "metadata": {
    "collapsed": true
   },
   "outputs": [],
   "source": [
    "#Ya casi terminamos!!!\n",
    "#Hagamos un porgrama que nos traduzca un par de indices a un unico. Comencemos:\n",
    "\n",
    "function indice_unico(i,j,numero_columnas)\n",
    "    return (i-1)*numero_columnas + j\n",
    "    end;"
   ]
  },
  {
   "cell_type": "code",
   "execution_count": 2,
   "metadata": {},
   "outputs": [
    {
     "name": "stdout",
     "output_type": "stream",
     "text": [
      "i = 1 j = 1 van a k = 1\n",
      "i = 1 j = 2 van a k = 2\n",
      "i = 1 j = 3 van a k = 3\n",
      "i = 1 j = 4 van a k = 4\n",
      "i = 1 j = 5 van a k = 5\n",
      "i = 2 j = 1 van a k = 6\n",
      "i = 2 j = 2 van a k = 7\n",
      "i = 2 j = 3 van a k = 8\n",
      "i = 2 j = 4 van a k = 9\n",
      "i = 2 j = 5 van a k = 10\n"
     ]
    }
   ],
   "source": [
    "#Probemos el programa:\n",
    "\n",
    "matriz = [1 2 3 4 5; 6 7 8 9 10]\n",
    "a = size(matriz,1)\n",
    "b = size(matriz,2)\n",
    "\n",
    "for i in 1:a\n",
    "    for j in 1:b\n",
    "    println(\"i = \",i ,\" j = \", j, \" van a k = \",indice_unico(i,j,b))    \n",
    "    end\n",
    "end"
   ]
  },
  {
   "cell_type": "code",
   "execution_count": 3,
   "metadata": {
    "collapsed": true
   },
   "outputs": [],
   "source": [
    "#Ya vimos que super si funciona el codigo, ahora queremos uno que haga lo inverso jiji\n",
    "\n",
    "function inverso_indice_unico(numero_columnas,indice)\n",
    "    if(indice%numero_columnas!=0)\n",
    "        j = indice%numero_columnas\n",
    "    else\n",
    "        j = numero_columnas\n",
    "    end\n",
    "    i = (indice-j+numero_columnas)/numero_columnas\n",
    "    return[i,j]\n",
    "    end;"
   ]
  },
  {
   "cell_type": "code",
   "execution_count": 4,
   "metadata": {},
   "outputs": [
    {
     "name": "stdout",
     "output_type": "stream",
     "text": [
      "k = 1 va a i = 1.0 y j = 1.0\n",
      "k = 2 va a i = 1.0 y j = 2.0\n",
      "k = 3 va a i = 1.0 y j = 3.0\n",
      "k = 4 va a i = 1.0 y j = 4.0\n",
      "k = 5 va a i = 1.0 y j = 5.0\n",
      "k = 6 va a i = 2.0 y j = 1.0\n",
      "k = 7 va a i = 2.0 y j = 2.0\n",
      "k = 8 va a i = 2.0 y j = 3.0\n",
      "k = 9 va a i = 2.0 y j = 4.0\n",
      "k = 10 va a i = 2.0 y j = 5.0\n"
     ]
    }
   ],
   "source": [
    "#Probamos nuestro codigo:\n",
    "\n",
    "indices = [1 2 3 4 5 6 7 8 9 10]\n",
    "\n",
    "for indice in indices\n",
    "    inverse = inverso_indice_unico(b,indice)\n",
    "    println(\"k = \", indice , \" va a i = \",inverse[1], \" y j = \", inverse[2]) \n",
    "end"
   ]
  }
 ],
 "metadata": {
  "kernelspec": {
   "display_name": "Julia 0.6.0",
   "language": "julia",
   "name": "julia-0.6"
  },
  "language_info": {
   "file_extension": ".jl",
   "mimetype": "application/julia",
   "name": "julia",
   "version": "0.6.0"
  }
 },
 "nbformat": 4,
 "nbformat_minor": 2
}
